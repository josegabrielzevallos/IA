{
  "nbformat": 4,
  "nbformat_minor": 0,
  "metadata": {
    "accelerator": "GPU",
    "colab": {
      "name": "Copia de Keras Flowers transfer learning (solution).ipynb",
      "provenance": [],
      "collapsed_sections": [],
      "toc_visible": true,
      "include_colab_link": true
    },
    "kernelspec": {
      "name": "python3",
      "display_name": "Python 3"
    },
    "language_info": {
      "codemirror_mode": {
        "name": "ipython",
        "version": 3
      },
      "file_extension": ".py",
      "mimetype": "text/x-python",
      "name": "python",
      "nbconvert_exporter": "python",
      "pygments_lexer": "ipython3",
      "version": "3.6.7"
    }
  },
  "cells": [
    {
      "cell_type": "markdown",
      "metadata": {
        "id": "view-in-github",
        "colab_type": "text"
      },
      "source": [
        "<a href=\"https://colab.research.google.com/github/fbrzflrsprcs/AI-2020-V/blob/master/Copia_de_Keras_Flowers_transfer_learning_(solution).ipynb\" target=\"_parent\"><img src=\"https://colab.research.google.com/assets/colab-badge.svg\" alt=\"Open In Colab\"/></a>"
      ]
    },
    {
      "cell_type": "markdown",
      "metadata": {
        "colab_type": "text",
        "id": "VQh6RAPVMAKm"
      },
      "source": [
        "Training on GPU will be fine for transfer learning as it is not a very demanding process."
      ]
    },
    {
      "cell_type": "markdown",
      "metadata": {
        "colab_type": "text",
        "id": "89B27-TGiDNB"
      },
      "source": [
        "## Imports"
      ]
    },
    {
      "cell_type": "code",
      "metadata": {
        "colab_type": "code",
        "id": "9u3d4Z7uQsmp",
        "outputId": "4869f771-c061-41db-f779-b878954dbc91",
        "colab": {
          "base_uri": "https://localhost:8080/",
          "height": 50
        }
      },
      "source": [
        "import os, sys, math\n",
        "import numpy as np\n",
        "from matplotlib import pyplot as plt\n",
        "if 'google.colab' in sys.modules: # Colab-only Tensorflow version selector\n",
        "  %tensorflow_version 2.x\n",
        "import tensorflow as tf\n",
        "print(\"Tensorflow version \" + tf.__version__)\n",
        "AUTO = tf.data.experimental.AUTOTUNE"
      ],
      "execution_count": 0,
      "outputs": [
        {
          "output_type": "stream",
          "text": [
            "TensorFlow 2.x selected.\n",
            "Tensorflow version 2.1.0\n"
          ],
          "name": "stdout"
        }
      ]
    },
    {
      "cell_type": "markdown",
      "metadata": {
        "colab_type": "text",
        "id": "w9S3uKC_iXY5"
      },
      "source": [
        "## Configuration"
      ]
    },
    {
      "cell_type": "code",
      "metadata": {
        "colab_type": "code",
        "id": "M3G-2aUBQJ-H",
        "outputId": "be16104e-c4fb-4cb7-f437-93e2c8409274",
        "colab": {
          "base_uri": "https://localhost:8080/",
          "height": 121
        }
      },
      "source": [
        "from google.colab import drive\n",
        "drive.mount('/content/drive')"
      ],
      "execution_count": 0,
      "outputs": [
        {
          "output_type": "stream",
          "text": [
            "Go to this URL in a browser: https://accounts.google.com/o/oauth2/auth?client_id=947318989803-6bn6qk8qdgf4n4g3pfee6491hc0brc4i.apps.googleusercontent.com&redirect_uri=urn%3aietf%3awg%3aoauth%3a2.0%3aoob&response_type=code&scope=email%20https%3a%2f%2fwww.googleapis.com%2fauth%2fdocs.test%20https%3a%2f%2fwww.googleapis.com%2fauth%2fdrive%20https%3a%2f%2fwww.googleapis.com%2fauth%2fdrive.photos.readonly%20https%3a%2f%2fwww.googleapis.com%2fauth%2fpeopleapi.readonly\n",
            "\n",
            "Enter your authorization code:\n",
            "··········\n",
            "Mounted at /content/drive\n"
          ],
          "name": "stdout"
        }
      ]
    },
    {
      "cell_type": "code",
      "metadata": {
        "cellView": "form",
        "colab_type": "code",
        "id": "MPkvHdAYNt9J",
        "colab": {}
      },
      "source": [
        "#@title display utilities [RUN ME]\n",
        "\n",
        "def dataset_to_numpy_util(dataset, N):\n",
        "  dataset = dataset.batch(N)\n",
        "  \n",
        "  for images, labels in dataset:\n",
        "    numpy_images = images.numpy()\n",
        "    numpy_labels = labels.numpy()\n",
        "    break;\n",
        "\n",
        "  return numpy_images, numpy_labels\n",
        "\n",
        "def title_from_label_and_target(label, correct_label):\n",
        "  correct = (label == correct_label)\n",
        "  return \"{} [{}{}{}]\".format(CLASSES[label], str(correct), ', shoud be ' if not correct else '',\n",
        "                              CLASSES[correct_label] if not correct else ''), correct\n",
        "\n",
        "def display_one_flower(image, title, subplot, red=False):\n",
        "    plt.subplot(subplot)\n",
        "    plt.axis('off')\n",
        "    plt.imshow(image)\n",
        "    plt.title(title, fontsize=16, color='red' if red else 'black')\n",
        "    return subplot+1\n",
        "  \n",
        "def display_9_images_from_dataset(dataset):\n",
        "  subplot=331\n",
        "  plt.figure(figsize=(13,13))\n",
        "  images, labels = dataset_to_numpy_util(dataset, 9)\n",
        "  for i, image in enumerate(images):\n",
        "    title = CLASSES[labels[i]]\n",
        "    subplot = display_one_flower(image, title, subplot)\n",
        "    if i >= 8:\n",
        "      break;\n",
        "              \n",
        "  plt.tight_layout()\n",
        "  plt.subplots_adjust(wspace=0.1, hspace=0.1)\n",
        "  plt.show()\n",
        "  \n",
        "def display_9_images_with_predictions(images, predictions, labels):\n",
        "  subplot=331\n",
        "  plt.figure(figsize=(13,13))\n",
        "  classes = np.argmax(predictions, axis=-1)\n",
        "  for i, image in enumerate(images):\n",
        "    title, correct = title_from_label_and_target(classes[i], labels[i])\n",
        "    subplot = display_one_flower(image, title, subplot, not correct)\n",
        "    if i >= 8:\n",
        "      break;\n",
        "              \n",
        "  plt.tight_layout()\n",
        "  plt.subplots_adjust(wspace=0.1, hspace=0.1)\n",
        "  plt.show()\n",
        "  \n",
        "def display_training_curves(training, validation, title, subplot):\n",
        "  if subplot%10==1: # set up the subplots on the first call\n",
        "    plt.subplots(figsize=(10,10), facecolor='#F0F0F0')\n",
        "    plt.tight_layout()\n",
        "  ax = plt.subplot(subplot)\n",
        "  ax.set_facecolor('#F8F8F8')\n",
        "  ax.plot(training)\n",
        "  ax.plot(validation)\n",
        "  ax.set_title('model '+ title)\n",
        "  ax.set_ylabel(title)\n",
        "  ax.set_xlabel('epoch')\n",
        "  ax.legend(['train', 'valid.'])"
      ],
      "execution_count": 0,
      "outputs": []
    },
    {
      "cell_type": "markdown",
      "metadata": {
        "colab_type": "text",
        "id": "kvPXiovhi3ZZ"
      },
      "source": [
        "## Read images and labels from TFRecords"
      ]
    },
    {
      "cell_type": "code",
      "metadata": {
        "colab_type": "code",
        "id": "LtAVr-4CP1rp",
        "colab": {}
      },
      "source": [
        "img_width, img_height = 80, 80\n",
        "IMAGE_SIZE = [80, 80]\n",
        "train_data_dir = '/content/drive/My Drive/Colab Notebooks/data/train'\n",
        "validation_data_dir = '/content/drive/My Drive/Colab Notebooks/data/validation'\n",
        "nb_train_samples = 560\n",
        "nb_validation_samples = 120\n",
        "epochs = 200\n",
        "batch_size = 50"
      ],
      "execution_count": 0,
      "outputs": []
    },
    {
      "cell_type": "markdown",
      "metadata": {
        "colab_type": "text",
        "id": "yCDq52zgRHtH"
      },
      "source": [
        "## training and validation datasets"
      ]
    },
    {
      "cell_type": "markdown",
      "metadata": {
        "colab_type": "text",
        "id": "ALtRUlxhw8Vt"
      },
      "source": [
        "## Model [WORK WAS REQUIRED HERE]"
      ]
    },
    {
      "cell_type": "code",
      "metadata": {
        "colab_type": "code",
        "id": "XLJNVGwHUDy1",
        "outputId": "f3456432-86cf-4b94-9a71-004fd1fac1d6",
        "colab": {
          "base_uri": "https://localhost:8080/",
          "height": 306
        }
      },
      "source": [
        "pretrained_model = tf.keras.applications.ResNet50(weights='imagenet', include_top=False, input_shape=[*IMAGE_SIZE, 3])\n",
        "#pretrained_model = tf.keras.applications.MobileNet(weights='imagenet', include_top=False, input_shape=[*IMAGE_SIZE, 3])\n",
        "pretrained_model.trainable = False\n",
        "\n",
        "### QUESTION 1.\n",
        "model = tf.keras.Sequential([\n",
        "    pretrained_model,\n",
        "    tf.keras.layers.Flatten(),\n",
        "    tf.keras.layers.Dense(2, activation='softmax')\n",
        "])\n",
        "\n",
        "model.compile(\n",
        "    optimizer='adam',\n",
        "    loss = 'sparse_categorical_crossentropy',\n",
        "    metrics=['accuracy']\n",
        ")\n",
        "\n",
        "model.summary()"
      ],
      "execution_count": 0,
      "outputs": [
        {
          "output_type": "stream",
          "text": [
            "Downloading data from https://github.com/keras-team/keras-applications/releases/download/resnet/resnet50_weights_tf_dim_ordering_tf_kernels_notop.h5\n",
            "94773248/94765736 [==============================] - 2s 0us/step\n",
            "Model: \"sequential\"\n",
            "_________________________________________________________________\n",
            "Layer (type)                 Output Shape              Param #   \n",
            "=================================================================\n",
            "resnet50 (Model)             (None, 3, 3, 2048)        23587712  \n",
            "_________________________________________________________________\n",
            "flatten (Flatten)            (None, 18432)             0         \n",
            "_________________________________________________________________\n",
            "dense (Dense)                (None, 2)                 36866     \n",
            "=================================================================\n",
            "Total params: 23,624,578\n",
            "Trainable params: 36,866\n",
            "Non-trainable params: 23,587,712\n",
            "_________________________________________________________________\n"
          ],
          "name": "stdout"
        }
      ]
    },
    {
      "cell_type": "markdown",
      "metadata": {
        "colab_type": "text",
        "id": "dMfenMQcxAAb"
      },
      "source": [
        "## Training"
      ]
    },
    {
      "cell_type": "code",
      "metadata": {
        "colab_type": "code",
        "id": "M-ID7vP5mIKs",
        "outputId": "fd612cf4-a1a0-4cec-d141-c6e83169ab25",
        "colab": {
          "base_uri": "https://localhost:8080/",
          "height": 1000
        }
      },
      "source": [
        "from keras.preprocessing.image import ImageDataGenerator\n",
        "train_datagen = ImageDataGenerator( rescale=1. / 255, shear_range=0.2, zoom_range=0.2, horizontal_flip=True)\n",
        "test_datagen  = ImageDataGenerator( rescale=1. / 255)\n",
        "\n",
        "train_generator = train_datagen.flow_from_directory( train_data_dir, target_size=(img_width, img_height), batch_size=batch_size, class_mode='sparse')\n",
        "validation_generator = test_datagen.flow_from_directory( validation_data_dir, target_size=(img_width, img_height), batch_size=batch_size, class_mode='sparse')\n",
        "model.fit( train_generator, steps_per_epoch=nb_train_samples // batch_size, epochs=epochs,  validation_data=validation_generator, validation_steps=nb_validation_samples // batch_size)\n",
        "\n",
        "#history = model.fit(train_generator, steps_per_epoch=steps_per_epoch, epochs=EPOCHS,validation_data=validation_generator, validation_steps=nb_validation_samples)"
      ],
      "execution_count": 0,
      "outputs": [
        {
          "output_type": "stream",
          "text": [
            "Using TensorFlow backend.\n"
          ],
          "name": "stderr"
        },
        {
          "output_type": "stream",
          "text": [
            "Found 560 images belonging to 2 classes.\n",
            "Found 120 images belonging to 2 classes.\n",
            "WARNING:tensorflow:sample_weight modes were coerced from\n",
            "  ...\n",
            "    to  \n",
            "  ['...']\n",
            "WARNING:tensorflow:sample_weight modes were coerced from\n",
            "  ...\n",
            "    to  \n",
            "  ['...']\n",
            "Train for 11 steps, validate for 2 steps\n",
            "Epoch 1/200\n",
            "11/11 [==============================] - 112s 10s/step - loss: 0.8980 - accuracy: 0.6784 - val_loss: 1.2829 - val_accuracy: 0.5300\n",
            "Epoch 2/200\n",
            "11/11 [==============================] - 4s 339ms/step - loss: 0.5944 - accuracy: 0.8235 - val_loss: 0.7707 - val_accuracy: 0.5300\n",
            "Epoch 3/200\n",
            "11/11 [==============================] - 2s 162ms/step - loss: 0.3072 - accuracy: 0.8784 - val_loss: 0.9445 - val_accuracy: 0.4700\n",
            "Epoch 4/200\n",
            "11/11 [==============================] - 2s 162ms/step - loss: 0.2326 - accuracy: 0.9275 - val_loss: 1.0091 - val_accuracy: 0.4700\n",
            "Epoch 5/200\n",
            "11/11 [==============================] - 2s 163ms/step - loss: 0.1960 - accuracy: 0.9333 - val_loss: 1.1000 - val_accuracy: 0.4700\n",
            "Epoch 6/200\n",
            "11/11 [==============================] - 2s 177ms/step - loss: 0.2148 - accuracy: 0.9255 - val_loss: 0.7226 - val_accuracy: 0.5000\n",
            "Epoch 7/200\n",
            "11/11 [==============================] - 2s 160ms/step - loss: 0.1857 - accuracy: 0.9412 - val_loss: 0.7285 - val_accuracy: 0.5000\n",
            "Epoch 8/200\n",
            "11/11 [==============================] - 2s 157ms/step - loss: 0.0737 - accuracy: 0.9804 - val_loss: 0.9859 - val_accuracy: 0.4700\n",
            "Epoch 9/200\n",
            "11/11 [==============================] - 2s 161ms/step - loss: 0.1503 - accuracy: 0.9510 - val_loss: 0.7594 - val_accuracy: 0.4500\n",
            "Epoch 10/200\n",
            "11/11 [==============================] - 2s 163ms/step - loss: 0.1193 - accuracy: 0.9588 - val_loss: 0.9629 - val_accuracy: 0.4700\n",
            "Epoch 11/200\n",
            "11/11 [==============================] - 2s 158ms/step - loss: 0.1149 - accuracy: 0.9608 - val_loss: 2.2162 - val_accuracy: 0.4700\n",
            "Epoch 12/200\n",
            "11/11 [==============================] - 2s 157ms/step - loss: 0.1480 - accuracy: 0.9412 - val_loss: 1.9520 - val_accuracy: 0.4700\n",
            "Epoch 13/200\n",
            "11/11 [==============================] - 2s 168ms/step - loss: 0.0610 - accuracy: 0.9765 - val_loss: 1.8379 - val_accuracy: 0.4700\n",
            "Epoch 14/200\n",
            "11/11 [==============================] - 2s 157ms/step - loss: 0.0664 - accuracy: 0.9725 - val_loss: 1.7768 - val_accuracy: 0.4700\n",
            "Epoch 15/200\n",
            "11/11 [==============================] - 2s 160ms/step - loss: 0.1150 - accuracy: 0.9686 - val_loss: 1.2524 - val_accuracy: 0.4700\n",
            "Epoch 16/200\n",
            "11/11 [==============================] - 2s 157ms/step - loss: 0.1292 - accuracy: 0.9588 - val_loss: 1.1087 - val_accuracy: 0.4700\n",
            "Epoch 17/200\n",
            "11/11 [==============================] - 2s 154ms/step - loss: 0.0982 - accuracy: 0.9686 - val_loss: 1.5986 - val_accuracy: 0.4700\n",
            "Epoch 18/200\n",
            "11/11 [==============================] - 2s 151ms/step - loss: 0.1476 - accuracy: 0.9647 - val_loss: 0.9759 - val_accuracy: 0.4700\n",
            "Epoch 19/200\n",
            "11/11 [==============================] - 2s 171ms/step - loss: 0.1372 - accuracy: 0.9588 - val_loss: 1.0924 - val_accuracy: 0.4700\n",
            "Epoch 20/200\n",
            "11/11 [==============================] - 2s 159ms/step - loss: 0.1614 - accuracy: 0.9471 - val_loss: 2.1789 - val_accuracy: 0.4700\n",
            "Epoch 21/200\n",
            "11/11 [==============================] - 2s 169ms/step - loss: 0.0805 - accuracy: 0.9765 - val_loss: 2.0896 - val_accuracy: 0.4700\n",
            "Epoch 22/200\n",
            "11/11 [==============================] - 2s 160ms/step - loss: 0.1130 - accuracy: 0.9627 - val_loss: 2.1826 - val_accuracy: 0.4700\n",
            "Epoch 23/200\n",
            "11/11 [==============================] - 2s 163ms/step - loss: 0.0507 - accuracy: 0.9745 - val_loss: 2.3319 - val_accuracy: 0.4700\n",
            "Epoch 24/200\n",
            "11/11 [==============================] - 2s 158ms/step - loss: 0.1385 - accuracy: 0.9588 - val_loss: 3.1692 - val_accuracy: 0.4700\n",
            "Epoch 25/200\n",
            "11/11 [==============================] - 2s 155ms/step - loss: 0.1077 - accuracy: 0.9549 - val_loss: 2.8070 - val_accuracy: 0.4700\n",
            "Epoch 26/200\n",
            "11/11 [==============================] - 2s 156ms/step - loss: 0.0714 - accuracy: 0.9686 - val_loss: 3.1705 - val_accuracy: 0.4700\n",
            "Epoch 27/200\n",
            "11/11 [==============================] - 2s 163ms/step - loss: 0.0755 - accuracy: 0.9745 - val_loss: 2.8237 - val_accuracy: 0.4700\n",
            "Epoch 28/200\n",
            "11/11 [==============================] - 2s 179ms/step - loss: 0.0557 - accuracy: 0.9804 - val_loss: 3.5679 - val_accuracy: 0.4700\n",
            "Epoch 29/200\n",
            "11/11 [==============================] - 2s 174ms/step - loss: 0.0738 - accuracy: 0.9784 - val_loss: 2.4283 - val_accuracy: 0.4700\n",
            "Epoch 30/200\n",
            "11/11 [==============================] - 2s 175ms/step - loss: 0.1207 - accuracy: 0.9627 - val_loss: 3.4481 - val_accuracy: 0.4700\n",
            "Epoch 31/200\n",
            "11/11 [==============================] - 2s 176ms/step - loss: 0.0623 - accuracy: 0.9824 - val_loss: 2.9149 - val_accuracy: 0.4700\n",
            "Epoch 32/200\n",
            "11/11 [==============================] - 2s 173ms/step - loss: 0.0466 - accuracy: 0.9824 - val_loss: 3.7267 - val_accuracy: 0.4700\n",
            "Epoch 33/200\n",
            "11/11 [==============================] - 2s 176ms/step - loss: 0.0502 - accuracy: 0.9804 - val_loss: 3.1551 - val_accuracy: 0.4700\n",
            "Epoch 34/200\n",
            "11/11 [==============================] - 2s 176ms/step - loss: 0.0723 - accuracy: 0.9824 - val_loss: 3.4650 - val_accuracy: 0.4700\n",
            "Epoch 35/200\n",
            "11/11 [==============================] - 2s 178ms/step - loss: 0.0599 - accuracy: 0.9745 - val_loss: 3.2431 - val_accuracy: 0.4700\n",
            "Epoch 36/200\n",
            "11/11 [==============================] - 2s 170ms/step - loss: 0.0536 - accuracy: 0.9882 - val_loss: 3.2971 - val_accuracy: 0.4700\n",
            "Epoch 37/200\n",
            "11/11 [==============================] - 2s 171ms/step - loss: 0.0449 - accuracy: 0.9902 - val_loss: 3.4671 - val_accuracy: 0.4700\n",
            "Epoch 38/200\n",
            "11/11 [==============================] - 2s 174ms/step - loss: 0.0620 - accuracy: 0.9725 - val_loss: 3.0100 - val_accuracy: 0.4700\n",
            "Epoch 39/200\n",
            "11/11 [==============================] - 2s 175ms/step - loss: 0.0187 - accuracy: 0.9922 - val_loss: 3.6328 - val_accuracy: 0.4700\n",
            "Epoch 40/200\n",
            "11/11 [==============================] - 2s 168ms/step - loss: 0.0414 - accuracy: 0.9863 - val_loss: 3.0623 - val_accuracy: 0.4700\n",
            "Epoch 41/200\n",
            "11/11 [==============================] - 2s 167ms/step - loss: 0.0419 - accuracy: 0.9843 - val_loss: 3.4357 - val_accuracy: 0.4700\n",
            "Epoch 42/200\n",
            "11/11 [==============================] - 2s 174ms/step - loss: 0.0460 - accuracy: 0.9818 - val_loss: 3.8503 - val_accuracy: 0.4700\n",
            "Epoch 43/200\n",
            "11/11 [==============================] - 2s 178ms/step - loss: 0.0385 - accuracy: 0.9843 - val_loss: 3.8626 - val_accuracy: 0.4700\n",
            "Epoch 44/200\n",
            "11/11 [==============================] - 2s 170ms/step - loss: 0.0552 - accuracy: 0.9765 - val_loss: 4.1313 - val_accuracy: 0.4700\n",
            "Epoch 45/200\n",
            "11/11 [==============================] - 2s 167ms/step - loss: 0.0401 - accuracy: 0.9824 - val_loss: 3.8712 - val_accuracy: 0.4700\n",
            "Epoch 46/200\n",
            "11/11 [==============================] - 2s 171ms/step - loss: 0.0120 - accuracy: 0.9941 - val_loss: 3.9721 - val_accuracy: 0.4700\n",
            "Epoch 47/200\n",
            "11/11 [==============================] - 2s 168ms/step - loss: 0.0213 - accuracy: 0.9863 - val_loss: 3.5147 - val_accuracy: 0.4700\n",
            "Epoch 48/200\n",
            "11/11 [==============================] - 2s 172ms/step - loss: 0.0322 - accuracy: 0.9902 - val_loss: 4.1615 - val_accuracy: 0.4700\n",
            "Epoch 49/200\n",
            "11/11 [==============================] - 2s 172ms/step - loss: 0.0201 - accuracy: 0.9922 - val_loss: 4.3408 - val_accuracy: 0.4700\n",
            "Epoch 50/200\n",
            "11/11 [==============================] - 2s 177ms/step - loss: 0.0226 - accuracy: 0.9945 - val_loss: 4.8774 - val_accuracy: 0.4700\n",
            "Epoch 51/200\n",
            "11/11 [==============================] - 2s 177ms/step - loss: 0.0281 - accuracy: 0.9882 - val_loss: 4.7946 - val_accuracy: 0.4700\n",
            "Epoch 52/200\n",
            "11/11 [==============================] - 2s 171ms/step - loss: 0.0412 - accuracy: 0.9882 - val_loss: 5.3685 - val_accuracy: 0.4700\n",
            "Epoch 53/200\n",
            "11/11 [==============================] - 2s 158ms/step - loss: 0.0518 - accuracy: 0.9863 - val_loss: 4.7743 - val_accuracy: 0.4700\n",
            "Epoch 54/200\n",
            "11/11 [==============================] - 2s 167ms/step - loss: 0.0458 - accuracy: 0.9882 - val_loss: 4.7199 - val_accuracy: 0.4700\n",
            "Epoch 55/200\n",
            "11/11 [==============================] - 2s 161ms/step - loss: 0.0453 - accuracy: 0.9824 - val_loss: 4.3958 - val_accuracy: 0.4700\n",
            "Epoch 56/200\n",
            "11/11 [==============================] - 2s 169ms/step - loss: 0.0502 - accuracy: 0.9804 - val_loss: 4.8733 - val_accuracy: 0.4700\n",
            "Epoch 57/200\n",
            "11/11 [==============================] - 2s 165ms/step - loss: 0.0322 - accuracy: 0.9902 - val_loss: 4.7064 - val_accuracy: 0.4700\n",
            "Epoch 58/200\n",
            "11/11 [==============================] - 2s 173ms/step - loss: 0.0419 - accuracy: 0.9882 - val_loss: 5.1535 - val_accuracy: 0.4700\n",
            "Epoch 59/200\n",
            "11/11 [==============================] - 2s 173ms/step - loss: 0.0235 - accuracy: 0.9922 - val_loss: 4.3198 - val_accuracy: 0.4700\n",
            "Epoch 60/200\n",
            "11/11 [==============================] - 2s 168ms/step - loss: 0.0790 - accuracy: 0.9804 - val_loss: 5.1403 - val_accuracy: 0.4700\n",
            "Epoch 61/200\n",
            "11/11 [==============================] - 2s 168ms/step - loss: 0.0485 - accuracy: 0.9863 - val_loss: 4.4469 - val_accuracy: 0.4700\n",
            "Epoch 62/200\n",
            "11/11 [==============================] - 2s 169ms/step - loss: 0.0490 - accuracy: 0.9824 - val_loss: 4.5622 - val_accuracy: 0.4700\n",
            "Epoch 63/200\n",
            "11/11 [==============================] - 2s 173ms/step - loss: 0.0648 - accuracy: 0.9804 - val_loss: 5.2510 - val_accuracy: 0.4700\n",
            "Epoch 64/200\n",
            "11/11 [==============================] - 2s 169ms/step - loss: 0.0642 - accuracy: 0.9784 - val_loss: 5.4120 - val_accuracy: 0.4700\n",
            "Epoch 65/200\n",
            "11/11 [==============================] - 2s 176ms/step - loss: 0.0669 - accuracy: 0.9843 - val_loss: 5.4221 - val_accuracy: 0.4700\n",
            "Epoch 66/200\n",
            "11/11 [==============================] - 2s 171ms/step - loss: 0.0760 - accuracy: 0.9745 - val_loss: 6.5598 - val_accuracy: 0.4700\n",
            "Epoch 67/200\n",
            "11/11 [==============================] - 2s 171ms/step - loss: 0.0861 - accuracy: 0.9765 - val_loss: 6.7133 - val_accuracy: 0.4700\n",
            "Epoch 68/200\n",
            "11/11 [==============================] - 2s 173ms/step - loss: 0.0244 - accuracy: 0.9902 - val_loss: 6.1627 - val_accuracy: 0.4700\n",
            "Epoch 69/200\n",
            "11/11 [==============================] - 2s 172ms/step - loss: 0.0605 - accuracy: 0.9882 - val_loss: 6.1266 - val_accuracy: 0.4700\n",
            "Epoch 70/200\n",
            "11/11 [==============================] - 2s 171ms/step - loss: 0.0513 - accuracy: 0.9873 - val_loss: 5.2250 - val_accuracy: 0.4700\n",
            "Epoch 71/200\n",
            "11/11 [==============================] - 2s 181ms/step - loss: 0.0363 - accuracy: 0.9902 - val_loss: 5.2866 - val_accuracy: 0.4700\n",
            "Epoch 72/200\n",
            "11/11 [==============================] - 2s 167ms/step - loss: 0.0772 - accuracy: 0.9804 - val_loss: 4.5237 - val_accuracy: 0.4700\n",
            "Epoch 73/200\n",
            "11/11 [==============================] - 2s 164ms/step - loss: 0.0444 - accuracy: 0.9882 - val_loss: 5.0349 - val_accuracy: 0.4700\n",
            "Epoch 74/200\n",
            "11/11 [==============================] - 2s 164ms/step - loss: 0.0445 - accuracy: 0.9855 - val_loss: 4.3899 - val_accuracy: 0.4700\n",
            "Epoch 75/200\n",
            "11/11 [==============================] - 2s 172ms/step - loss: 0.0740 - accuracy: 0.9804 - val_loss: 4.7742 - val_accuracy: 0.4700\n",
            "Epoch 76/200\n",
            "11/11 [==============================] - 2s 171ms/step - loss: 0.0331 - accuracy: 0.9863 - val_loss: 4.3595 - val_accuracy: 0.4700\n",
            "Epoch 77/200\n",
            "11/11 [==============================] - 2s 169ms/step - loss: 0.0369 - accuracy: 0.9843 - val_loss: 4.8014 - val_accuracy: 0.4700\n",
            "Epoch 78/200\n",
            "11/11 [==============================] - 2s 163ms/step - loss: 0.0244 - accuracy: 0.9922 - val_loss: 4.4871 - val_accuracy: 0.4700\n",
            "Epoch 79/200\n",
            "11/11 [==============================] - 2s 162ms/step - loss: 0.0381 - accuracy: 0.9863 - val_loss: 4.4218 - val_accuracy: 0.4700\n",
            "Epoch 80/200\n",
            "11/11 [==============================] - 2s 163ms/step - loss: 0.0560 - accuracy: 0.9882 - val_loss: 4.5275 - val_accuracy: 0.4700\n",
            "Epoch 81/200\n",
            "11/11 [==============================] - 2s 169ms/step - loss: 0.0461 - accuracy: 0.9941 - val_loss: 4.4116 - val_accuracy: 0.4700\n",
            "Epoch 82/200\n",
            "11/11 [==============================] - 2s 164ms/step - loss: 0.0847 - accuracy: 0.9824 - val_loss: 4.6962 - val_accuracy: 0.4700\n",
            "Epoch 83/200\n",
            "11/11 [==============================] - 2s 167ms/step - loss: 0.0210 - accuracy: 0.9922 - val_loss: 4.9546 - val_accuracy: 0.4700\n",
            "Epoch 84/200\n",
            "11/11 [==============================] - 2s 173ms/step - loss: 0.0175 - accuracy: 0.9961 - val_loss: 4.9225 - val_accuracy: 0.4700\n",
            "Epoch 85/200\n",
            "11/11 [==============================] - 2s 163ms/step - loss: 0.0500 - accuracy: 0.9902 - val_loss: 4.8661 - val_accuracy: 0.4700\n",
            "Epoch 86/200\n",
            "11/11 [==============================] - 2s 164ms/step - loss: 0.0151 - accuracy: 0.9941 - val_loss: 5.3078 - val_accuracy: 0.4700\n",
            "Epoch 87/200\n",
            "11/11 [==============================] - 2s 162ms/step - loss: 0.0198 - accuracy: 0.9941 - val_loss: 4.2699 - val_accuracy: 0.4700\n",
            "Epoch 88/200\n",
            "11/11 [==============================] - 2s 168ms/step - loss: 0.0109 - accuracy: 0.9964 - val_loss: 4.3923 - val_accuracy: 0.4700\n",
            "Epoch 89/200\n",
            "11/11 [==============================] - 2s 162ms/step - loss: 0.0182 - accuracy: 0.9902 - val_loss: 4.4452 - val_accuracy: 0.4700\n",
            "Epoch 90/200\n",
            "11/11 [==============================] - 2s 162ms/step - loss: 0.0305 - accuracy: 0.9863 - val_loss: 4.4056 - val_accuracy: 0.4700\n",
            "Epoch 91/200\n",
            "11/11 [==============================] - 2s 169ms/step - loss: 0.0213 - accuracy: 0.9941 - val_loss: 3.7907 - val_accuracy: 0.4700\n",
            "Epoch 92/200\n",
            "11/11 [==============================] - 2s 168ms/step - loss: 0.0140 - accuracy: 0.9941 - val_loss: 4.1154 - val_accuracy: 0.4700\n",
            "Epoch 93/200\n",
            "11/11 [==============================] - 2s 171ms/step - loss: 0.0280 - accuracy: 0.9941 - val_loss: 4.7912 - val_accuracy: 0.4700\n",
            "Epoch 94/200\n",
            "11/11 [==============================] - 2s 168ms/step - loss: 0.0593 - accuracy: 0.9902 - val_loss: 4.3338 - val_accuracy: 0.4700\n",
            "Epoch 95/200\n",
            "11/11 [==============================] - 2s 166ms/step - loss: 0.0382 - accuracy: 0.9863 - val_loss: 4.9385 - val_accuracy: 0.4700\n",
            "Epoch 96/200\n",
            "11/11 [==============================] - 2s 170ms/step - loss: 0.0453 - accuracy: 0.9909 - val_loss: 4.8097 - val_accuracy: 0.4700\n",
            "Epoch 97/200\n",
            "11/11 [==============================] - 2s 161ms/step - loss: 0.0245 - accuracy: 0.9882 - val_loss: 4.7632 - val_accuracy: 0.4700\n",
            "Epoch 98/200\n",
            "11/11 [==============================] - 2s 164ms/step - loss: 0.0331 - accuracy: 0.9863 - val_loss: 3.9601 - val_accuracy: 0.4700\n",
            "Epoch 99/200\n",
            "11/11 [==============================] - 2s 166ms/step - loss: 0.0512 - accuracy: 0.9863 - val_loss: 4.4269 - val_accuracy: 0.4700\n",
            "Epoch 100/200\n",
            "11/11 [==============================] - 2s 164ms/step - loss: 0.0374 - accuracy: 0.9882 - val_loss: 3.3798 - val_accuracy: 0.4700\n",
            "Epoch 101/200\n",
            "11/11 [==============================] - 2s 160ms/step - loss: 0.0595 - accuracy: 0.9863 - val_loss: 4.2228 - val_accuracy: 0.4700\n",
            "Epoch 102/200\n",
            "11/11 [==============================] - 2s 171ms/step - loss: 0.0428 - accuracy: 0.9882 - val_loss: 4.3085 - val_accuracy: 0.4700\n",
            "Epoch 103/200\n",
            "11/11 [==============================] - 2s 159ms/step - loss: 0.0497 - accuracy: 0.9882 - val_loss: 4.1553 - val_accuracy: 0.4700\n",
            "Epoch 104/200\n",
            "11/11 [==============================] - 2s 168ms/step - loss: 0.0147 - accuracy: 0.9941 - val_loss: 4.1082 - val_accuracy: 0.4700\n",
            "Epoch 105/200\n",
            "11/11 [==============================] - 2s 159ms/step - loss: 0.0252 - accuracy: 0.9843 - val_loss: 3.8334 - val_accuracy: 0.4700\n",
            "Epoch 106/200\n",
            "11/11 [==============================] - 2s 169ms/step - loss: 0.0313 - accuracy: 0.9922 - val_loss: 3.5488 - val_accuracy: 0.4700\n",
            "Epoch 107/200\n",
            "11/11 [==============================] - 2s 170ms/step - loss: 0.0345 - accuracy: 0.9863 - val_loss: 3.9923 - val_accuracy: 0.4700\n",
            "Epoch 108/200\n",
            "11/11 [==============================] - 2s 155ms/step - loss: 0.0040 - accuracy: 0.9980 - val_loss: 3.8013 - val_accuracy: 0.4700\n",
            "Epoch 109/200\n",
            "11/11 [==============================] - 2s 161ms/step - loss: 0.1056 - accuracy: 0.9765 - val_loss: 3.9057 - val_accuracy: 0.4700\n",
            "Epoch 110/200\n",
            "11/11 [==============================] - 2s 167ms/step - loss: 0.0637 - accuracy: 0.9863 - val_loss: 5.5198 - val_accuracy: 0.4700\n",
            "Epoch 111/200\n",
            "11/11 [==============================] - 2s 167ms/step - loss: 0.1419 - accuracy: 0.9691 - val_loss: 3.8371 - val_accuracy: 0.4700\n",
            "Epoch 112/200\n",
            "11/11 [==============================] - 2s 156ms/step - loss: 0.1109 - accuracy: 0.9706 - val_loss: 2.2843 - val_accuracy: 0.4700\n",
            "Epoch 113/200\n",
            "11/11 [==============================] - 2s 149ms/step - loss: 0.0626 - accuracy: 0.9843 - val_loss: 2.4255 - val_accuracy: 0.4700\n",
            "Epoch 114/200\n",
            "11/11 [==============================] - 2s 162ms/step - loss: 0.0427 - accuracy: 0.9843 - val_loss: 3.9491 - val_accuracy: 0.4700\n",
            "Epoch 115/200\n",
            "11/11 [==============================] - 2s 161ms/step - loss: 0.0805 - accuracy: 0.9863 - val_loss: 2.4317 - val_accuracy: 0.4700\n",
            "Epoch 116/200\n",
            "11/11 [==============================] - 2s 156ms/step - loss: 0.1190 - accuracy: 0.9804 - val_loss: 4.1532 - val_accuracy: 0.4700\n",
            "Epoch 117/200\n",
            "11/11 [==============================] - 2s 175ms/step - loss: 0.0329 - accuracy: 0.9882 - val_loss: 5.5256 - val_accuracy: 0.4700\n",
            "Epoch 118/200\n",
            "11/11 [==============================] - 2s 154ms/step - loss: 0.0596 - accuracy: 0.9804 - val_loss: 4.9824 - val_accuracy: 0.4700\n",
            "Epoch 119/200\n",
            "11/11 [==============================] - 2s 157ms/step - loss: 0.0425 - accuracy: 0.9882 - val_loss: 5.0072 - val_accuracy: 0.4700\n",
            "Epoch 120/200\n",
            "11/11 [==============================] - 2s 159ms/step - loss: 0.0311 - accuracy: 0.9843 - val_loss: 5.3552 - val_accuracy: 0.4700\n",
            "Epoch 121/200\n",
            "11/11 [==============================] - 2s 155ms/step - loss: 0.0327 - accuracy: 0.9941 - val_loss: 5.3835 - val_accuracy: 0.4700\n",
            "Epoch 122/200\n",
            "11/11 [==============================] - 2s 148ms/step - loss: 0.0211 - accuracy: 0.9941 - val_loss: 6.4593 - val_accuracy: 0.4700\n",
            "Epoch 123/200\n",
            "11/11 [==============================] - 2s 166ms/step - loss: 0.0490 - accuracy: 0.9961 - val_loss: 5.3841 - val_accuracy: 0.4700\n",
            "Epoch 124/200\n",
            "11/11 [==============================] - 2s 171ms/step - loss: 0.0778 - accuracy: 0.9902 - val_loss: 5.2606 - val_accuracy: 0.4700\n",
            "Epoch 125/200\n",
            "11/11 [==============================] - 2s 165ms/step - loss: 0.0249 - accuracy: 0.9922 - val_loss: 5.9568 - val_accuracy: 0.4700\n",
            "Epoch 126/200\n",
            "11/11 [==============================] - 2s 167ms/step - loss: 0.1110 - accuracy: 0.9843 - val_loss: 5.2012 - val_accuracy: 0.4700\n",
            "Epoch 127/200\n",
            "11/11 [==============================] - 2s 166ms/step - loss: 0.0410 - accuracy: 0.9902 - val_loss: 6.1351 - val_accuracy: 0.4700\n",
            "Epoch 128/200\n",
            "11/11 [==============================] - 2s 166ms/step - loss: 0.0300 - accuracy: 0.9922 - val_loss: 5.4452 - val_accuracy: 0.4700\n",
            "Epoch 129/200\n",
            "11/11 [==============================] - 2s 167ms/step - loss: 0.0690 - accuracy: 0.9863 - val_loss: 6.3353 - val_accuracy: 0.4700\n",
            "Epoch 130/200\n",
            "11/11 [==============================] - 2s 170ms/step - loss: 0.0120 - accuracy: 0.9980 - val_loss: 7.1796 - val_accuracy: 0.4700\n",
            "Epoch 131/200\n",
            "11/11 [==============================] - 2s 175ms/step - loss: 0.0348 - accuracy: 0.9922 - val_loss: 5.8212 - val_accuracy: 0.4700\n",
            "Epoch 132/200\n",
            "11/11 [==============================] - 2s 174ms/step - loss: 0.0455 - accuracy: 0.9843 - val_loss: 6.3408 - val_accuracy: 0.4700\n",
            "Epoch 133/200\n",
            "11/11 [==============================] - 2s 169ms/step - loss: 0.0508 - accuracy: 0.9882 - val_loss: 5.3137 - val_accuracy: 0.4700\n",
            "Epoch 134/200\n",
            "11/11 [==============================] - 2s 167ms/step - loss: 0.0618 - accuracy: 0.9882 - val_loss: 4.6112 - val_accuracy: 0.4700\n",
            "Epoch 135/200\n",
            "11/11 [==============================] - 2s 175ms/step - loss: 0.0227 - accuracy: 0.9922 - val_loss: 5.3299 - val_accuracy: 0.4700\n",
            "Epoch 136/200\n",
            "11/11 [==============================] - 2s 171ms/step - loss: 0.0408 - accuracy: 0.9941 - val_loss: 4.6215 - val_accuracy: 0.4700\n",
            "Epoch 137/200\n",
            "11/11 [==============================] - 2s 178ms/step - loss: 0.0023 - accuracy: 1.0000 - val_loss: 5.1324 - val_accuracy: 0.4700\n",
            "Epoch 138/200\n",
            "11/11 [==============================] - 2s 162ms/step - loss: 0.0500 - accuracy: 0.9843 - val_loss: 4.6140 - val_accuracy: 0.4700\n",
            "Epoch 139/200\n",
            "11/11 [==============================] - 2s 164ms/step - loss: 0.0339 - accuracy: 0.9961 - val_loss: 5.7742 - val_accuracy: 0.4700\n",
            "Epoch 140/200\n",
            "11/11 [==============================] - 2s 164ms/step - loss: 0.0567 - accuracy: 0.9902 - val_loss: 5.8218 - val_accuracy: 0.4700\n",
            "Epoch 141/200\n",
            "11/11 [==============================] - 2s 160ms/step - loss: 0.0177 - accuracy: 0.9922 - val_loss: 4.4977 - val_accuracy: 0.4700\n",
            "Epoch 142/200\n",
            "11/11 [==============================] - 2s 164ms/step - loss: 0.0277 - accuracy: 0.9941 - val_loss: 4.6409 - val_accuracy: 0.4700\n",
            "Epoch 143/200\n",
            "11/11 [==============================] - 2s 163ms/step - loss: 0.0459 - accuracy: 0.9922 - val_loss: 5.3420 - val_accuracy: 0.4700\n",
            "Epoch 144/200\n",
            "11/11 [==============================] - 2s 161ms/step - loss: 0.0277 - accuracy: 0.9941 - val_loss: 4.4142 - val_accuracy: 0.4700\n",
            "Epoch 145/200\n",
            "11/11 [==============================] - 2s 162ms/step - loss: 0.0388 - accuracy: 0.9873 - val_loss: 5.1338 - val_accuracy: 0.4700\n",
            "Epoch 146/200\n",
            "11/11 [==============================] - 2s 160ms/step - loss: 0.0225 - accuracy: 0.9980 - val_loss: 5.5518 - val_accuracy: 0.4700\n",
            "Epoch 147/200\n",
            "11/11 [==============================] - 2s 160ms/step - loss: 0.0398 - accuracy: 0.9902 - val_loss: 4.7002 - val_accuracy: 0.4700\n",
            "Epoch 148/200\n",
            "11/11 [==============================] - 2s 155ms/step - loss: 0.0163 - accuracy: 0.9941 - val_loss: 4.6585 - val_accuracy: 0.4700\n",
            "Epoch 149/200\n",
            "11/11 [==============================] - 2s 156ms/step - loss: 0.0180 - accuracy: 0.9945 - val_loss: 4.3478 - val_accuracy: 0.4700\n",
            "Epoch 150/200\n",
            "11/11 [==============================] - 2s 161ms/step - loss: 0.0228 - accuracy: 0.9941 - val_loss: 4.9711 - val_accuracy: 0.4700\n",
            "Epoch 151/200\n",
            "11/11 [==============================] - 2s 159ms/step - loss: 0.0242 - accuracy: 0.9961 - val_loss: 4.3240 - val_accuracy: 0.4700\n",
            "Epoch 152/200\n",
            "11/11 [==============================] - 2s 163ms/step - loss: 0.0463 - accuracy: 0.9882 - val_loss: 4.7365 - val_accuracy: 0.4700\n",
            "Epoch 153/200\n",
            "11/11 [==============================] - 2s 157ms/step - loss: 0.0108 - accuracy: 0.9941 - val_loss: 5.5602 - val_accuracy: 0.4700\n",
            "Epoch 154/200\n",
            "11/11 [==============================] - 2s 168ms/step - loss: 0.0891 - accuracy: 0.9882 - val_loss: 3.9982 - val_accuracy: 0.4700\n",
            "Epoch 155/200\n",
            "11/11 [==============================] - 2s 163ms/step - loss: 0.0264 - accuracy: 0.9902 - val_loss: 4.1458 - val_accuracy: 0.4700\n",
            "Epoch 156/200\n",
            "11/11 [==============================] - 2s 165ms/step - loss: 0.0258 - accuracy: 0.9902 - val_loss: 3.7845 - val_accuracy: 0.4700\n",
            "Epoch 157/200\n",
            "11/11 [==============================] - 2s 165ms/step - loss: 0.0487 - accuracy: 0.9922 - val_loss: 4.2901 - val_accuracy: 0.4700\n",
            "Epoch 158/200\n",
            "11/11 [==============================] - 2s 168ms/step - loss: 0.0074 - accuracy: 0.9961 - val_loss: 4.1068 - val_accuracy: 0.4700\n",
            "Epoch 159/200\n",
            "11/11 [==============================] - 2s 171ms/step - loss: 0.0208 - accuracy: 0.9922 - val_loss: 2.7953 - val_accuracy: 0.4700\n",
            "Epoch 160/200\n",
            "11/11 [==============================] - 2s 163ms/step - loss: 0.0394 - accuracy: 0.9961 - val_loss: 2.5446 - val_accuracy: 0.4700\n",
            "Epoch 161/200\n",
            "11/11 [==============================] - 2s 164ms/step - loss: 0.0475 - accuracy: 0.9902 - val_loss: 4.0401 - val_accuracy: 0.4700\n",
            "Epoch 162/200\n",
            "11/11 [==============================] - 2s 170ms/step - loss: 0.0118 - accuracy: 0.9941 - val_loss: 3.7777 - val_accuracy: 0.4700\n",
            "Epoch 163/200\n",
            "11/11 [==============================] - 2s 169ms/step - loss: 0.0087 - accuracy: 0.9961 - val_loss: 4.0105 - val_accuracy: 0.4700\n",
            "Epoch 164/200\n",
            "11/11 [==============================] - 2s 178ms/step - loss: 0.0187 - accuracy: 0.9941 - val_loss: 4.5810 - val_accuracy: 0.4700\n",
            "Epoch 165/200\n",
            "11/11 [==============================] - 2s 176ms/step - loss: 0.0649 - accuracy: 0.9863 - val_loss: 4.7224 - val_accuracy: 0.4700\n",
            "Epoch 166/200\n",
            "11/11 [==============================] - 2s 175ms/step - loss: 0.0054 - accuracy: 0.9980 - val_loss: 4.0339 - val_accuracy: 0.4700\n",
            "Epoch 167/200\n",
            "11/11 [==============================] - 2s 175ms/step - loss: 0.0129 - accuracy: 0.9961 - val_loss: 3.8050 - val_accuracy: 0.4700\n",
            "Epoch 168/200\n",
            "11/11 [==============================] - 2s 175ms/step - loss: 0.0355 - accuracy: 0.9941 - val_loss: 4.9284 - val_accuracy: 0.4700\n",
            "Epoch 169/200\n",
            "11/11 [==============================] - 2s 173ms/step - loss: 0.0078 - accuracy: 0.9945 - val_loss: 4.3607 - val_accuracy: 0.4700\n",
            "Epoch 170/200\n",
            "11/11 [==============================] - 2s 177ms/step - loss: 0.0115 - accuracy: 0.9961 - val_loss: 3.7063 - val_accuracy: 0.4700\n",
            "Epoch 171/200\n",
            "11/11 [==============================] - 2s 172ms/step - loss: 0.0789 - accuracy: 0.9909 - val_loss: 4.9551 - val_accuracy: 0.4700\n",
            "Epoch 172/200\n",
            "11/11 [==============================] - 2s 161ms/step - loss: 0.0398 - accuracy: 0.9882 - val_loss: 4.2673 - val_accuracy: 0.4700\n",
            "Epoch 173/200\n",
            "11/11 [==============================] - 2s 173ms/step - loss: 0.0242 - accuracy: 0.9902 - val_loss: 4.4183 - val_accuracy: 0.4700\n",
            "Epoch 174/200\n",
            "11/11 [==============================] - 2s 175ms/step - loss: 0.0218 - accuracy: 0.9922 - val_loss: 3.9118 - val_accuracy: 0.4700\n",
            "Epoch 175/200\n",
            "11/11 [==============================] - 2s 168ms/step - loss: 0.0090 - accuracy: 0.9964 - val_loss: 4.2477 - val_accuracy: 0.4700\n",
            "Epoch 176/200\n",
            "11/11 [==============================] - 2s 165ms/step - loss: 0.0364 - accuracy: 0.9941 - val_loss: 5.7206 - val_accuracy: 0.4700\n",
            "Epoch 177/200\n",
            "11/11 [==============================] - 2s 164ms/step - loss: 0.0734 - accuracy: 0.9882 - val_loss: 3.7374 - val_accuracy: 0.4700\n",
            "Epoch 178/200\n",
            "11/11 [==============================] - 2s 168ms/step - loss: 0.0201 - accuracy: 0.9863 - val_loss: 4.2988 - val_accuracy: 0.4700\n",
            "Epoch 179/200\n",
            "11/11 [==============================] - 2s 168ms/step - loss: 0.0601 - accuracy: 0.9922 - val_loss: 5.0572 - val_accuracy: 0.4700\n",
            "Epoch 180/200\n",
            "11/11 [==============================] - 2s 172ms/step - loss: 0.0137 - accuracy: 0.9902 - val_loss: 3.6968 - val_accuracy: 0.4700\n",
            "Epoch 181/200\n",
            "11/11 [==============================] - 2s 173ms/step - loss: 0.0318 - accuracy: 0.9922 - val_loss: 4.5395 - val_accuracy: 0.4700\n",
            "Epoch 182/200\n",
            "11/11 [==============================] - 2s 171ms/step - loss: 0.0474 - accuracy: 0.9902 - val_loss: 4.3485 - val_accuracy: 0.4700\n",
            "Epoch 183/200\n",
            "11/11 [==============================] - 2s 170ms/step - loss: 0.0024 - accuracy: 0.9980 - val_loss: 2.5773 - val_accuracy: 0.4700\n",
            "Epoch 184/200\n",
            "11/11 [==============================] - 2s 164ms/step - loss: 0.0855 - accuracy: 0.9882 - val_loss: 3.9373 - val_accuracy: 0.4700\n",
            "Epoch 185/200\n",
            "11/11 [==============================] - 2s 165ms/step - loss: 0.0095 - accuracy: 0.9941 - val_loss: 4.4462 - val_accuracy: 0.4700\n",
            "Epoch 186/200\n",
            "11/11 [==============================] - 2s 163ms/step - loss: 0.0305 - accuracy: 0.9843 - val_loss: 4.8187 - val_accuracy: 0.4700\n",
            "Epoch 187/200\n",
            "11/11 [==============================] - 2s 167ms/step - loss: 0.0396 - accuracy: 0.9941 - val_loss: 4.5784 - val_accuracy: 0.4700\n",
            "Epoch 188/200\n",
            "11/11 [==============================] - 2s 166ms/step - loss: 0.0806 - accuracy: 0.9843 - val_loss: 4.6216 - val_accuracy: 0.4700\n",
            "Epoch 189/200\n",
            "11/11 [==============================] - 2s 167ms/step - loss: 0.0153 - accuracy: 0.9961 - val_loss: 4.8125 - val_accuracy: 0.4700\n",
            "Epoch 190/200\n",
            "11/11 [==============================] - 2s 165ms/step - loss: 0.0035 - accuracy: 0.9961 - val_loss: 5.3182 - val_accuracy: 0.4700\n",
            "Epoch 191/200\n",
            "11/11 [==============================] - 2s 166ms/step - loss: 0.0551 - accuracy: 0.9882 - val_loss: 4.6327 - val_accuracy: 0.4700\n",
            "Epoch 192/200\n",
            "11/11 [==============================] - 2s 171ms/step - loss: 0.0091 - accuracy: 0.9961 - val_loss: 5.6056 - val_accuracy: 0.4700\n",
            "Epoch 193/200\n",
            "11/11 [==============================] - 2s 179ms/step - loss: 0.1099 - accuracy: 0.9902 - val_loss: 4.7745 - val_accuracy: 0.4700\n",
            "Epoch 194/200\n",
            "11/11 [==============================] - 2s 165ms/step - loss: 0.0806 - accuracy: 0.9863 - val_loss: 5.1495 - val_accuracy: 0.4700\n",
            "Epoch 195/200\n",
            "11/11 [==============================] - 2s 165ms/step - loss: 0.0504 - accuracy: 0.9882 - val_loss: 5.4496 - val_accuracy: 0.4700\n",
            "Epoch 196/200\n",
            "11/11 [==============================] - 2s 164ms/step - loss: 0.0201 - accuracy: 0.9941 - val_loss: 5.8354 - val_accuracy: 0.4700\n",
            "Epoch 197/200\n",
            "11/11 [==============================] - 2s 172ms/step - loss: 0.0280 - accuracy: 0.9909 - val_loss: 4.3125 - val_accuracy: 0.4700\n",
            "Epoch 198/200\n",
            "11/11 [==============================] - 2s 166ms/step - loss: 0.0364 - accuracy: 0.9902 - val_loss: 5.0327 - val_accuracy: 0.4700\n",
            "Epoch 199/200\n",
            "11/11 [==============================] - 2s 165ms/step - loss: 0.0500 - accuracy: 0.9902 - val_loss: 5.3777 - val_accuracy: 0.4700\n",
            "Epoch 200/200\n",
            "11/11 [==============================] - 2s 169ms/step - loss: 0.0078 - accuracy: 0.9980 - val_loss: 5.3929 - val_accuracy: 0.4700\n"
          ],
          "name": "stdout"
        },
        {
          "output_type": "execute_result",
          "data": {
            "text/plain": [
              "<tensorflow.python.keras.callbacks.History at 0x7f97481fe4a8>"
            ]
          },
          "metadata": {
            "tags": []
          },
          "execution_count": 6
        }
      ]
    },
    {
      "cell_type": "code",
      "metadata": {
        "id": "XlQ_7LnrWpqd",
        "colab_type": "code",
        "outputId": "fbba1b3d-456a-4d46-af16-d2ad94600af8",
        "colab": {
          "base_uri": "https://localhost:8080/",
          "height": 34
        }
      },
      "source": [
        "from keras.preprocessing import image\n",
        "from keras.applications.resnet50 import preprocess_input, decode_predictions\n",
        "img_path = '/content/drive/My Drive/Colab Notebooks/data/validation/class1/1_67_3043537.jpg'\n",
        "img = image.load_img(img_path, target_size=(80, 80))\n",
        "x = image.img_to_array(img)\n",
        "x = np.expand_dims(x, axis=0)\n",
        "x = preprocess_input(x)\n",
        "\n",
        "preds = model.predict(x)\n",
        "preds = np.argmax(preds, axis=-1)\n",
        "print(preds)#output [0] significa que pertence a la clase 1"
      ],
      "execution_count": 0,
      "outputs": [
        {
          "output_type": "stream",
          "text": [
            "[0]\n"
          ],
          "name": "stdout"
        }
      ]
    },
    {
      "cell_type": "code",
      "metadata": {
        "colab_type": "code",
        "id": "VngeUBIdyJ1T",
        "outputId": "7b57b85e-3634-46ca-b460-46c807f1ad22",
        "colab": {
          "base_uri": "https://localhost:8080/",
          "height": 34
        }
      },
      "source": [
        "img_path = '/content/drive/My Drive/Colab Notebooks/data/validation/class2/2_88_81794.jpg'\n",
        "img = image.load_img(img_path, target_size=(80, 80))\n",
        "x = image.img_to_array(img)\n",
        "x = np.expand_dims(x, axis=0)\n",
        "x = preprocess_input(x)\n",
        "\n",
        "preds = model.predict(x)\n",
        "preds = np.argmax(preds, axis=-1)\n",
        "print(preds)#output [1] significa que pertence a la clase 2"
      ],
      "execution_count": 0,
      "outputs": [
        {
          "output_type": "stream",
          "text": [
            "[1]\n"
          ],
          "name": "stdout"
        }
      ]
    }
  ]
}